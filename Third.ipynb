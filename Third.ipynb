{
  "nbformat": 4,
  "nbformat_minor": 0,
  "metadata": {
    "colab": {
      "provenance": [],
      "authorship_tag": "ABX9TyNGQXHeXs1flWB/A86hyxkr",
      "include_colab_link": true
    },
    "kernelspec": {
      "name": "python3",
      "display_name": "Python 3"
    },
    "language_info": {
      "name": "python"
    }
  },
  "cells": [
    {
      "cell_type": "markdown",
      "metadata": {
        "id": "view-in-github",
        "colab_type": "text"
      },
      "source": [
        "<a href=\"https://colab.research.google.com/github/Costalom/Jupyter1/blob/main/Third.ipynb\" target=\"_parent\"><img src=\"https://colab.research.google.com/assets/colab-badge.svg\" alt=\"Open In Colab\"/></a>"
      ]
    },
    {
      "cell_type": "markdown",
      "source": [
        "# Третий файл"
      ],
      "metadata": {
        "id": "9N4lLhdyd7iC"
      }
    },
    {
      "cell_type": "code",
      "execution_count": null,
      "metadata": {
        "colab": {
          "base_uri": "https://localhost:8080/"
        },
        "id": "7Oa-qF4NainD",
        "outputId": "ff43ef86-94d5-4f04-89ec-1ed94abc1ebf"
      },
      "outputs": [
        {
          "output_type": "stream",
          "name": "stdout",
          "text": [
            "Hello World!\n"
          ]
        }
      ],
      "source": [
        "print('Hello World!')"
      ]
    },
    {
      "cell_type": "markdown",
      "source": [
        "# y = 2*x1 + 3*x2 + 3*x3"
      ],
      "metadata": {
        "id": "lp6PwBxcgEhq"
      }
    },
    {
      "cell_type": "code",
      "source": [
        "# y = 2*x1 + 3*x2 + 3*x3\n",
        " \n",
        "from random import randint\n",
        "from sklearn.linear_model import LinearRegression\n",
        "\n",
        "# Создание тренировочного набора данных\n",
        "train_set_limit = 1000\n",
        "train_set_count = 100\n",
        "\n",
        "train_input = list()\n",
        "train_output = list()\n",
        "for i in range(train_set_count):\n",
        "    a = randint(0, train_set_limit)\n",
        "    b = randint(0, train_set_limit)\n",
        "    c = randint(0, train_set_limit)\n",
        "    op = (2*a) + (3*b) + (3*c)\n",
        "    train_input.append([a, b, c])\n",
        "    train_output.append(op)\n",
        "    \n",
        "for i in range(20):\n",
        "    print(train_input[i], train_output[i])\n",
        "\n",
        "# Тренировка \n",
        "predictor = LinearRegression()\n",
        "predictor.fit(X=train_input, y=train_output)\n",
        "\n",
        "# Прогнозирование\n",
        "x_test = [[10, 20, 30]]\n",
        "outcome = predictor.predict(X=x_test)\n",
        "coefficients = predictor.coef_\n",
        "\n",
        "print('Outcome : ', outcome)\n",
        "print('Coefficients : ', coefficients)\n"
      ],
      "metadata": {
        "colab": {
          "base_uri": "https://localhost:8080/"
        },
        "id": "Bnprlpwyf9qz",
        "outputId": "179e2d72-db0e-42f3-fa56-c5668492a73c"
      },
      "execution_count": 2,
      "outputs": [
        {
          "output_type": "stream",
          "name": "stdout",
          "text": [
            "[479, 464, 879] 4987\n",
            "[879, 249, 848] 5049\n",
            "[72, 946, 823] 5451\n",
            "[881, 28, 220] 2506\n",
            "[724, 342, 832] 4970\n",
            "[725, 820, 25] 3985\n",
            "[748, 622, 128] 3746\n",
            "[866, 521, 444] 4627\n",
            "[433, 768, 895] 5855\n",
            "[75, 123, 432] 1815\n",
            "[819, 470, 380] 4188\n",
            "[876, 107, 703] 4182\n",
            "[853, 233, 124] 2777\n",
            "[131, 989, 743] 5458\n",
            "[481, 581, 205] 3320\n",
            "[172, 217, 2] 1001\n",
            "[595, 638, 247] 3845\n",
            "[922, 662, 178] 4364\n",
            "[445, 772, 515] 4751\n",
            "[578, 978, 96] 4378\n",
            "Outcome :  [170.]\n",
            "Coefficients :  [2. 3. 3.]\n"
          ]
        }
      ]
    }
  ]
}